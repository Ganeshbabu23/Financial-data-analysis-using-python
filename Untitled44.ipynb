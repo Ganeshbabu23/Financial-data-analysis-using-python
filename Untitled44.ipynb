{
 "cells": [
  {
   "cell_type": "markdown",
   "id": "7eb30267-a000-4bbc-b5fe-2209ead46547",
   "metadata": {},
   "source": [
    "# FINANCE DATA ANALYSIS"
   ]
  },
  {
   "cell_type": "markdown",
   "id": "2f9f2fcc-39b7-44b6-a86c-d38e9c126dbb",
   "metadata": {},
   "source": [
    "## import libraries"
   ]
  },
  {
   "cell_type": "code",
   "execution_count": null,
   "id": "e27cac67-ef2d-4abd-801f-adf39c9be184",
   "metadata": {},
   "outputs": [],
   "source": []
  },
  {
   "cell_type": "code",
   "execution_count": 2,
   "id": "4fdc88d2-0d22-4995-b6ee-86074cc9980f",
   "metadata": {},
   "outputs": [],
   "source": [
    "import pandas as pd\n",
    "import numpy as np\n",
    "import matplotlib.pyplot as plt\n",
    "import seaborn as sns\n",
    "import warnings\n",
    "import plotly.express as px"
   ]
  },
  {
   "cell_type": "markdown",
   "id": "02f648c0-009e-4575-a5a4-3c7e52995b81",
   "metadata": {},
   "source": [
    "## importing dataset"
   ]
  },
  {
   "cell_type": "code",
   "execution_count": 3,
   "id": "41debbe9-6a3c-42f1-92e9-7d974ddb1274",
   "metadata": {},
   "outputs": [],
   "source": [
    "df=pd.read_excel(r\"C:\\BOSS\\STUDIES\\Githyb Project\\finance domain\\financial_loan.xlsx\")"
   ]
  },
  {
   "cell_type": "code",
   "execution_count": 4,
   "id": "3217b0da-23a6-4af0-a5db-4ce423d737db",
   "metadata": {},
   "outputs": [
    {
     "data": {
      "text/html": [
       "<div>\n",
       "<style scoped>\n",
       "    .dataframe tbody tr th:only-of-type {\n",
       "        vertical-align: middle;\n",
       "    }\n",
       "\n",
       "    .dataframe tbody tr th {\n",
       "        vertical-align: top;\n",
       "    }\n",
       "\n",
       "    .dataframe thead th {\n",
       "        text-align: right;\n",
       "    }\n",
       "</style>\n",
       "<table border=\"1\" class=\"dataframe\">\n",
       "  <thead>\n",
       "    <tr style=\"text-align: right;\">\n",
       "      <th></th>\n",
       "      <th>id</th>\n",
       "      <th>address_state</th>\n",
       "      <th>application_type</th>\n",
       "      <th>emp_length</th>\n",
       "      <th>emp_title</th>\n",
       "      <th>grade</th>\n",
       "      <th>home_ownership</th>\n",
       "      <th>issue_date</th>\n",
       "      <th>last_credit_pull_date</th>\n",
       "      <th>last_payment_date</th>\n",
       "      <th>...</th>\n",
       "      <th>sub_grade</th>\n",
       "      <th>term</th>\n",
       "      <th>verification_status</th>\n",
       "      <th>annual_income</th>\n",
       "      <th>dti</th>\n",
       "      <th>installment</th>\n",
       "      <th>int_rate</th>\n",
       "      <th>loan_amount</th>\n",
       "      <th>total_acc</th>\n",
       "      <th>total_payment</th>\n",
       "    </tr>\n",
       "  </thead>\n",
       "  <tbody>\n",
       "    <tr>\n",
       "      <th>0</th>\n",
       "      <td>1077430</td>\n",
       "      <td>GA</td>\n",
       "      <td>INDIVIDUAL</td>\n",
       "      <td>&lt; 1 year</td>\n",
       "      <td>Ryder</td>\n",
       "      <td>C</td>\n",
       "      <td>RENT</td>\n",
       "      <td>2021-02-11</td>\n",
       "      <td>2021-09-13</td>\n",
       "      <td>2021-04-13</td>\n",
       "      <td>...</td>\n",
       "      <td>C4</td>\n",
       "      <td>60 months</td>\n",
       "      <td>Source Verified</td>\n",
       "      <td>30000.0</td>\n",
       "      <td>0.0100</td>\n",
       "      <td>59.83</td>\n",
       "      <td>0.1527</td>\n",
       "      <td>2500</td>\n",
       "      <td>4</td>\n",
       "      <td>1009</td>\n",
       "    </tr>\n",
       "    <tr>\n",
       "      <th>1</th>\n",
       "      <td>1072053</td>\n",
       "      <td>CA</td>\n",
       "      <td>INDIVIDUAL</td>\n",
       "      <td>9 years</td>\n",
       "      <td>MKC Accounting</td>\n",
       "      <td>E</td>\n",
       "      <td>RENT</td>\n",
       "      <td>2021-01-01</td>\n",
       "      <td>2021-12-14</td>\n",
       "      <td>2021-01-15</td>\n",
       "      <td>...</td>\n",
       "      <td>E1</td>\n",
       "      <td>36 months</td>\n",
       "      <td>Source Verified</td>\n",
       "      <td>48000.0</td>\n",
       "      <td>0.0535</td>\n",
       "      <td>109.43</td>\n",
       "      <td>0.1864</td>\n",
       "      <td>3000</td>\n",
       "      <td>4</td>\n",
       "      <td>3939</td>\n",
       "    </tr>\n",
       "    <tr>\n",
       "      <th>2</th>\n",
       "      <td>1069243</td>\n",
       "      <td>CA</td>\n",
       "      <td>INDIVIDUAL</td>\n",
       "      <td>4 years</td>\n",
       "      <td>Chemat Technology Inc</td>\n",
       "      <td>C</td>\n",
       "      <td>RENT</td>\n",
       "      <td>2021-01-05</td>\n",
       "      <td>2021-12-12</td>\n",
       "      <td>2021-01-09</td>\n",
       "      <td>...</td>\n",
       "      <td>C5</td>\n",
       "      <td>36 months</td>\n",
       "      <td>Not Verified</td>\n",
       "      <td>50000.0</td>\n",
       "      <td>0.2088</td>\n",
       "      <td>421.65</td>\n",
       "      <td>0.1596</td>\n",
       "      <td>12000</td>\n",
       "      <td>11</td>\n",
       "      <td>3522</td>\n",
       "    </tr>\n",
       "    <tr>\n",
       "      <th>3</th>\n",
       "      <td>1041756</td>\n",
       "      <td>TX</td>\n",
       "      <td>INDIVIDUAL</td>\n",
       "      <td>&lt; 1 year</td>\n",
       "      <td>barnes distribution</td>\n",
       "      <td>B</td>\n",
       "      <td>MORTGAGE</td>\n",
       "      <td>2021-02-25</td>\n",
       "      <td>2021-12-12</td>\n",
       "      <td>2021-03-12</td>\n",
       "      <td>...</td>\n",
       "      <td>B2</td>\n",
       "      <td>60 months</td>\n",
       "      <td>Source Verified</td>\n",
       "      <td>42000.0</td>\n",
       "      <td>0.0540</td>\n",
       "      <td>97.06</td>\n",
       "      <td>0.1065</td>\n",
       "      <td>4500</td>\n",
       "      <td>9</td>\n",
       "      <td>4911</td>\n",
       "    </tr>\n",
       "    <tr>\n",
       "      <th>4</th>\n",
       "      <td>1068350</td>\n",
       "      <td>IL</td>\n",
       "      <td>INDIVIDUAL</td>\n",
       "      <td>10+ years</td>\n",
       "      <td>J&amp;J Steel Inc</td>\n",
       "      <td>A</td>\n",
       "      <td>MORTGAGE</td>\n",
       "      <td>2021-01-01</td>\n",
       "      <td>2021-12-14</td>\n",
       "      <td>2021-01-15</td>\n",
       "      <td>...</td>\n",
       "      <td>A1</td>\n",
       "      <td>36 months</td>\n",
       "      <td>Verified</td>\n",
       "      <td>83000.0</td>\n",
       "      <td>0.0231</td>\n",
       "      <td>106.53</td>\n",
       "      <td>0.0603</td>\n",
       "      <td>3500</td>\n",
       "      <td>28</td>\n",
       "      <td>3835</td>\n",
       "    </tr>\n",
       "  </tbody>\n",
       "</table>\n",
       "<p>5 rows × 24 columns</p>\n",
       "</div>"
      ],
      "text/plain": [
       "        id address_state application_type emp_length              emp_title  \\\n",
       "0  1077430            GA       INDIVIDUAL   < 1 year                  Ryder   \n",
       "1  1072053            CA       INDIVIDUAL    9 years         MKC Accounting   \n",
       "2  1069243            CA       INDIVIDUAL    4 years  Chemat Technology Inc   \n",
       "3  1041756            TX       INDIVIDUAL   < 1 year    barnes distribution   \n",
       "4  1068350            IL       INDIVIDUAL  10+ years          J&J Steel Inc   \n",
       "\n",
       "  grade home_ownership issue_date last_credit_pull_date last_payment_date  \\\n",
       "0     C           RENT 2021-02-11            2021-09-13        2021-04-13   \n",
       "1     E           RENT 2021-01-01            2021-12-14        2021-01-15   \n",
       "2     C           RENT 2021-01-05            2021-12-12        2021-01-09   \n",
       "3     B       MORTGAGE 2021-02-25            2021-12-12        2021-03-12   \n",
       "4     A       MORTGAGE 2021-01-01            2021-12-14        2021-01-15   \n",
       "\n",
       "   ... sub_grade        term  verification_status annual_income     dti  \\\n",
       "0  ...        C4   60 months      Source Verified       30000.0  0.0100   \n",
       "1  ...        E1   36 months      Source Verified       48000.0  0.0535   \n",
       "2  ...        C5   36 months         Not Verified       50000.0  0.2088   \n",
       "3  ...        B2   60 months      Source Verified       42000.0  0.0540   \n",
       "4  ...        A1   36 months             Verified       83000.0  0.0231   \n",
       "\n",
       "  installment int_rate  loan_amount  total_acc  total_payment  \n",
       "0       59.83   0.1527         2500          4           1009  \n",
       "1      109.43   0.1864         3000          4           3939  \n",
       "2      421.65   0.1596        12000         11           3522  \n",
       "3       97.06   0.1065         4500          9           4911  \n",
       "4      106.53   0.0603         3500         28           3835  \n",
       "\n",
       "[5 rows x 24 columns]"
      ]
     },
     "execution_count": 4,
     "metadata": {},
     "output_type": "execute_result"
    }
   ],
   "source": [
    "df.head(5)"
   ]
  },
  {
   "cell_type": "code",
   "execution_count": null,
   "id": "97017737-eaf3-4322-9615-7165a421a002",
   "metadata": {},
   "outputs": [],
   "source": []
  },
  {
   "cell_type": "markdown",
   "id": "7832dc5e-7a72-4c1e-a261-6e83b4c721e6",
   "metadata": {},
   "source": [
    "## metadata of data"
   ]
  },
  {
   "cell_type": "code",
   "execution_count": 10,
   "id": "b92f4fa6-5afb-4061-8cd4-628311ad35ae",
   "metadata": {},
   "outputs": [
    {
     "name": "stdout",
     "output_type": "stream",
     "text": [
      "no of rows: 38576\n",
      "no of columns: 24\n"
     ]
    }
   ],
   "source": [
    "print('no of rows:',df.shape[0])\n",
    "print('no of columns:',df.shape[1])"
   ]
  },
  {
   "cell_type": "code",
   "execution_count": null,
   "id": "5be700ff-680b-4795-978a-d592c398a0b2",
   "metadata": {},
   "outputs": [],
   "source": []
  },
  {
   "cell_type": "code",
   "execution_count": 11,
   "id": "c3bbb1b3-a460-4dea-8b58-26152f08ebce",
   "metadata": {},
   "outputs": [
    {
     "name": "stdout",
     "output_type": "stream",
     "text": [
      "<class 'pandas.core.frame.DataFrame'>\n",
      "RangeIndex: 38576 entries, 0 to 38575\n",
      "Data columns (total 24 columns):\n",
      " #   Column                 Non-Null Count  Dtype         \n",
      "---  ------                 --------------  -----         \n",
      " 0   id                     38576 non-null  int64         \n",
      " 1   address_state          38576 non-null  object        \n",
      " 2   application_type       38576 non-null  object        \n",
      " 3   emp_length             38576 non-null  object        \n",
      " 4   emp_title              37138 non-null  object        \n",
      " 5   grade                  38576 non-null  object        \n",
      " 6   home_ownership         38576 non-null  object        \n",
      " 7   issue_date             38576 non-null  datetime64[ns]\n",
      " 8   last_credit_pull_date  38576 non-null  datetime64[ns]\n",
      " 9   last_payment_date      38576 non-null  datetime64[ns]\n",
      " 10  loan_status            38576 non-null  object        \n",
      " 11  next_payment_date      38576 non-null  datetime64[ns]\n",
      " 12  member_id              38576 non-null  int64         \n",
      " 13  purpose                38576 non-null  object        \n",
      " 14  sub_grade              38576 non-null  object        \n",
      " 15  term                   38576 non-null  object        \n",
      " 16  verification_status    38576 non-null  object        \n",
      " 17  annual_income          38576 non-null  float64       \n",
      " 18  dti                    38576 non-null  float64       \n",
      " 19  installment            38576 non-null  float64       \n",
      " 20  int_rate               38576 non-null  float64       \n",
      " 21  loan_amount            38576 non-null  int64         \n",
      " 22  total_acc              38576 non-null  int64         \n",
      " 23  total_payment          38576 non-null  int64         \n",
      "dtypes: datetime64[ns](4), float64(4), int64(5), object(11)\n",
      "memory usage: 7.1+ MB\n"
     ]
    }
   ],
   "source": [
    "df.info()"
   ]
  },
  {
   "cell_type": "code",
   "execution_count": 12,
   "id": "2a0e3fbf-9d08-4a32-8193-f7e6588fe15e",
   "metadata": {},
   "outputs": [
    {
     "data": {
      "text/html": [
       "<div>\n",
       "<style scoped>\n",
       "    .dataframe tbody tr th:only-of-type {\n",
       "        vertical-align: middle;\n",
       "    }\n",
       "\n",
       "    .dataframe tbody tr th {\n",
       "        vertical-align: top;\n",
       "    }\n",
       "\n",
       "    .dataframe thead th {\n",
       "        text-align: right;\n",
       "    }\n",
       "</style>\n",
       "<table border=\"1\" class=\"dataframe\">\n",
       "  <thead>\n",
       "    <tr style=\"text-align: right;\">\n",
       "      <th></th>\n",
       "      <th>id</th>\n",
       "      <th>issue_date</th>\n",
       "      <th>last_credit_pull_date</th>\n",
       "      <th>last_payment_date</th>\n",
       "      <th>next_payment_date</th>\n",
       "      <th>member_id</th>\n",
       "      <th>annual_income</th>\n",
       "      <th>dti</th>\n",
       "      <th>installment</th>\n",
       "      <th>int_rate</th>\n",
       "      <th>loan_amount</th>\n",
       "      <th>total_acc</th>\n",
       "      <th>total_payment</th>\n",
       "    </tr>\n",
       "  </thead>\n",
       "  <tbody>\n",
       "    <tr>\n",
       "      <th>count</th>\n",
       "      <td>3.857600e+04</td>\n",
       "      <td>38576</td>\n",
       "      <td>38576</td>\n",
       "      <td>38576</td>\n",
       "      <td>38576</td>\n",
       "      <td>3.857600e+04</td>\n",
       "      <td>3.857600e+04</td>\n",
       "      <td>38576.000000</td>\n",
       "      <td>38576.000000</td>\n",
       "      <td>38576.000000</td>\n",
       "      <td>38576.000000</td>\n",
       "      <td>38576.000000</td>\n",
       "      <td>38576.000000</td>\n",
       "    </tr>\n",
       "    <tr>\n",
       "      <th>mean</th>\n",
       "      <td>6.810371e+05</td>\n",
       "      <td>2021-07-16 02:31:35.562007040</td>\n",
       "      <td>2021-06-08 13:36:34.193280512</td>\n",
       "      <td>2021-06-26 09:52:08.909166080</td>\n",
       "      <td>2021-07-26 20:42:20.605557760</td>\n",
       "      <td>8.476515e+05</td>\n",
       "      <td>6.964454e+04</td>\n",
       "      <td>0.133274</td>\n",
       "      <td>326.862965</td>\n",
       "      <td>0.120488</td>\n",
       "      <td>11296.066855</td>\n",
       "      <td>22.132544</td>\n",
       "      <td>12263.348533</td>\n",
       "    </tr>\n",
       "    <tr>\n",
       "      <th>min</th>\n",
       "      <td>5.473400e+04</td>\n",
       "      <td>2021-01-01 00:00:00</td>\n",
       "      <td>2021-01-08 00:00:00</td>\n",
       "      <td>2021-01-08 00:00:00</td>\n",
       "      <td>2021-02-08 00:00:00</td>\n",
       "      <td>7.069900e+04</td>\n",
       "      <td>4.000000e+03</td>\n",
       "      <td>0.000000</td>\n",
       "      <td>15.690000</td>\n",
       "      <td>0.054200</td>\n",
       "      <td>500.000000</td>\n",
       "      <td>2.000000</td>\n",
       "      <td>34.000000</td>\n",
       "    </tr>\n",
       "    <tr>\n",
       "      <th>25%</th>\n",
       "      <td>5.135170e+05</td>\n",
       "      <td>2021-04-11 00:00:00</td>\n",
       "      <td>2021-04-15 00:00:00</td>\n",
       "      <td>2021-03-16 00:00:00</td>\n",
       "      <td>2021-04-16 00:00:00</td>\n",
       "      <td>6.629788e+05</td>\n",
       "      <td>4.150000e+04</td>\n",
       "      <td>0.082100</td>\n",
       "      <td>168.450000</td>\n",
       "      <td>0.093200</td>\n",
       "      <td>5500.000000</td>\n",
       "      <td>14.000000</td>\n",
       "      <td>5633.000000</td>\n",
       "    </tr>\n",
       "    <tr>\n",
       "      <th>50%</th>\n",
       "      <td>6.627280e+05</td>\n",
       "      <td>2021-07-11 00:00:00</td>\n",
       "      <td>2021-05-16 00:00:00</td>\n",
       "      <td>2021-06-14 00:00:00</td>\n",
       "      <td>2021-07-14 00:00:00</td>\n",
       "      <td>8.473565e+05</td>\n",
       "      <td>6.000000e+04</td>\n",
       "      <td>0.134200</td>\n",
       "      <td>283.045000</td>\n",
       "      <td>0.118600</td>\n",
       "      <td>10000.000000</td>\n",
       "      <td>20.000000</td>\n",
       "      <td>10042.000000</td>\n",
       "    </tr>\n",
       "    <tr>\n",
       "      <th>75%</th>\n",
       "      <td>8.365060e+05</td>\n",
       "      <td>2021-10-11 00:00:00</td>\n",
       "      <td>2021-08-13 00:00:00</td>\n",
       "      <td>2021-09-15 00:00:00</td>\n",
       "      <td>2021-10-15 00:00:00</td>\n",
       "      <td>1.045652e+06</td>\n",
       "      <td>8.320050e+04</td>\n",
       "      <td>0.185900</td>\n",
       "      <td>434.442500</td>\n",
       "      <td>0.145900</td>\n",
       "      <td>15000.000000</td>\n",
       "      <td>29.000000</td>\n",
       "      <td>16658.000000</td>\n",
       "    </tr>\n",
       "    <tr>\n",
       "      <th>max</th>\n",
       "      <td>1.077501e+06</td>\n",
       "      <td>2021-12-12 00:00:00</td>\n",
       "      <td>2022-01-20 00:00:00</td>\n",
       "      <td>2021-12-15 00:00:00</td>\n",
       "      <td>2022-01-15 00:00:00</td>\n",
       "      <td>1.314167e+06</td>\n",
       "      <td>6.000000e+06</td>\n",
       "      <td>0.299900</td>\n",
       "      <td>1305.190000</td>\n",
       "      <td>0.245900</td>\n",
       "      <td>35000.000000</td>\n",
       "      <td>90.000000</td>\n",
       "      <td>58564.000000</td>\n",
       "    </tr>\n",
       "    <tr>\n",
       "      <th>std</th>\n",
       "      <td>2.113246e+05</td>\n",
       "      <td>NaN</td>\n",
       "      <td>NaN</td>\n",
       "      <td>NaN</td>\n",
       "      <td>NaN</td>\n",
       "      <td>2.668105e+05</td>\n",
       "      <td>6.429368e+04</td>\n",
       "      <td>0.066662</td>\n",
       "      <td>209.092000</td>\n",
       "      <td>0.037164</td>\n",
       "      <td>7460.746022</td>\n",
       "      <td>11.392282</td>\n",
       "      <td>9051.104777</td>\n",
       "    </tr>\n",
       "  </tbody>\n",
       "</table>\n",
       "</div>"
      ],
      "text/plain": [
       "                 id                     issue_date  \\\n",
       "count  3.857600e+04                          38576   \n",
       "mean   6.810371e+05  2021-07-16 02:31:35.562007040   \n",
       "min    5.473400e+04            2021-01-01 00:00:00   \n",
       "25%    5.135170e+05            2021-04-11 00:00:00   \n",
       "50%    6.627280e+05            2021-07-11 00:00:00   \n",
       "75%    8.365060e+05            2021-10-11 00:00:00   \n",
       "max    1.077501e+06            2021-12-12 00:00:00   \n",
       "std    2.113246e+05                            NaN   \n",
       "\n",
       "               last_credit_pull_date              last_payment_date  \\\n",
       "count                          38576                          38576   \n",
       "mean   2021-06-08 13:36:34.193280512  2021-06-26 09:52:08.909166080   \n",
       "min              2021-01-08 00:00:00            2021-01-08 00:00:00   \n",
       "25%              2021-04-15 00:00:00            2021-03-16 00:00:00   \n",
       "50%              2021-05-16 00:00:00            2021-06-14 00:00:00   \n",
       "75%              2021-08-13 00:00:00            2021-09-15 00:00:00   \n",
       "max              2022-01-20 00:00:00            2021-12-15 00:00:00   \n",
       "std                              NaN                            NaN   \n",
       "\n",
       "                   next_payment_date     member_id  annual_income  \\\n",
       "count                          38576  3.857600e+04   3.857600e+04   \n",
       "mean   2021-07-26 20:42:20.605557760  8.476515e+05   6.964454e+04   \n",
       "min              2021-02-08 00:00:00  7.069900e+04   4.000000e+03   \n",
       "25%              2021-04-16 00:00:00  6.629788e+05   4.150000e+04   \n",
       "50%              2021-07-14 00:00:00  8.473565e+05   6.000000e+04   \n",
       "75%              2021-10-15 00:00:00  1.045652e+06   8.320050e+04   \n",
       "max              2022-01-15 00:00:00  1.314167e+06   6.000000e+06   \n",
       "std                              NaN  2.668105e+05   6.429368e+04   \n",
       "\n",
       "                dti   installment      int_rate   loan_amount     total_acc  \\\n",
       "count  38576.000000  38576.000000  38576.000000  38576.000000  38576.000000   \n",
       "mean       0.133274    326.862965      0.120488  11296.066855     22.132544   \n",
       "min        0.000000     15.690000      0.054200    500.000000      2.000000   \n",
       "25%        0.082100    168.450000      0.093200   5500.000000     14.000000   \n",
       "50%        0.134200    283.045000      0.118600  10000.000000     20.000000   \n",
       "75%        0.185900    434.442500      0.145900  15000.000000     29.000000   \n",
       "max        0.299900   1305.190000      0.245900  35000.000000     90.000000   \n",
       "std        0.066662    209.092000      0.037164   7460.746022     11.392282   \n",
       "\n",
       "       total_payment  \n",
       "count   38576.000000  \n",
       "mean    12263.348533  \n",
       "min        34.000000  \n",
       "25%      5633.000000  \n",
       "50%     10042.000000  \n",
       "75%     16658.000000  \n",
       "max     58564.000000  \n",
       "std      9051.104777  "
      ]
     },
     "execution_count": 12,
     "metadata": {},
     "output_type": "execute_result"
    }
   ],
   "source": [
    "df.describe()"
   ]
  },
  {
   "cell_type": "code",
   "execution_count": null,
   "id": "6995f889-0925-4c0e-a9f7-e3bde3560aa9",
   "metadata": {},
   "outputs": [],
   "source": []
  },
  {
   "cell_type": "markdown",
   "id": "3685d0c8-dd7f-495d-ac55-7a1be391110e",
   "metadata": {},
   "source": [
    "## data types"
   ]
  },
  {
   "cell_type": "code",
   "execution_count": 14,
   "id": "dc99362f-285f-4b92-bcf5-ed66025a1fb4",
   "metadata": {},
   "outputs": [
    {
     "data": {
      "text/plain": [
       "id                                int64\n",
       "address_state                    object\n",
       "application_type                 object\n",
       "emp_length                       object\n",
       "emp_title                        object\n",
       "grade                            object\n",
       "home_ownership                   object\n",
       "issue_date               datetime64[ns]\n",
       "last_credit_pull_date    datetime64[ns]\n",
       "last_payment_date        datetime64[ns]\n",
       "loan_status                      object\n",
       "next_payment_date        datetime64[ns]\n",
       "member_id                         int64\n",
       "purpose                          object\n",
       "sub_grade                        object\n",
       "term                             object\n",
       "verification_status              object\n",
       "annual_income                   float64\n",
       "dti                             float64\n",
       "installment                     float64\n",
       "int_rate                        float64\n",
       "loan_amount                       int64\n",
       "total_acc                         int64\n",
       "total_payment                     int64\n",
       "dtype: object"
      ]
     },
     "execution_count": 14,
     "metadata": {},
     "output_type": "execute_result"
    }
   ],
   "source": [
    "df.dtypes"
   ]
  },
  {
   "cell_type": "code",
   "execution_count": null,
   "id": "8adfdb06-6c8c-47fb-ae1e-b5150e29a6de",
   "metadata": {},
   "outputs": [],
   "source": []
  },
  {
   "cell_type": "markdown",
   "id": "2b2b5bbb-4aae-4c8c-8573-adf9263465a1",
   "metadata": {},
   "source": [
    "# key performance indicators"
   ]
  },
  {
   "cell_type": "markdown",
   "id": "771691f4-32dd-40e2-94cc-45eda9edd0f0",
   "metadata": {},
   "source": [
    "### total loan appliaction"
   ]
  },
  {
   "cell_type": "code",
   "execution_count": 17,
   "id": "52747886-ff2e-4e71-9cc2-d568328b5130",
   "metadata": {},
   "outputs": [
    {
     "name": "stdout",
     "output_type": "stream",
     "text": [
      "TOTAL LOAN APPLICATION: 38576\n"
     ]
    }
   ],
   "source": [
    "total_loan_application=df['id'].count()\n",
    "print('TOTAL LOAN APPLICATION:',df['id'].count())"
   ]
  },
  {
   "cell_type": "code",
   "execution_count": null,
   "id": "4430ec3d-2ea7-4456-9146-068efbdb0694",
   "metadata": {},
   "outputs": [],
   "source": []
  },
  {
   "cell_type": "markdown",
   "id": "014fa277-06e2-45c3-8ba6-f03489475bc1",
   "metadata": {},
   "source": [
    "### month to date total loan appliaction(MTD)"
   ]
  },
  {
   "cell_type": "code",
   "execution_count": 20,
   "id": "1fe4f167-262c-4537-882a-77d69866fd61",
   "metadata": {},
   "outputs": [
    {
     "data": {
      "text/plain": [
       "' The total number (or value) of loan applications that have been received from the 1st day of the current month up to today.'"
      ]
     },
     "execution_count": 20,
     "metadata": {},
     "output_type": "execute_result"
    }
   ],
   "source": [
    "\"\"\" The total number (or value) of loan applications that have been received from the 1st day of the current month up to today.\"\"\""
   ]
  },
  {
   "cell_type": "code",
   "execution_count": null,
   "id": "aa962569-5e63-4b13-a498-f81ad28a7a51",
   "metadata": {},
   "outputs": [],
   "source": []
  },
  {
   "cell_type": "code",
   "execution_count": 23,
   "id": "65b5d4d0-e70c-498e-823d-f3539254c5e8",
   "metadata": {},
   "outputs": [
    {
     "name": "stdout",
     "output_type": "stream",
     "text": [
      "MTD loan application (for December 2021): 4314\n"
     ]
    }
   ],
   "source": [
    "latest_issue_date = df['issue_date'].max()\n",
    "latest_year = latest_issue_date.year\n",
    "latest_month = latest_issue_date.month  \n",
    "\n",
    "mtd_data = df[\n",
    "    (df['issue_date'].dt.year == latest_year) &\n",
    "    (df['issue_date'].dt.month == latest_month)\n",
    "]\n",
    "\n",
    "mtd_loan_application = mtd_data['id'].count()\n",
    "print(f\"MTD loan application (for {latest_issue_date.strftime('%B %Y')}): {mtd_loan_application}\")\n"
   ]
  },
  {
   "cell_type": "code",
   "execution_count": null,
   "id": "eada46bb-3ba4-48ba-b879-0dcd9555f1bb",
   "metadata": {},
   "outputs": [],
   "source": []
  },
  {
   "cell_type": "markdown",
   "id": "b6302159-972b-446b-8e38-ac1ded983383",
   "metadata": {},
   "source": [
    "### total funded amount"
   ]
  },
  {
   "cell_type": "code",
   "execution_count": 37,
   "id": "6b2febcb-26a2-46bf-b7a2-780d314aca86",
   "metadata": {},
   "outputs": [
    {
     "name": "stdout",
     "output_type": "stream",
     "text": [
      "TOTAL FUNDED AMOUNT: $435.76M\n"
     ]
    }
   ],
   "source": [
    "total_funded_amount=df['loan_amount'].sum()\n",
    "total_funded_amount_millions=  total_funded_amount / 1000000\n",
    "\n",
    "print('TOTAL FUNDED AMOUNT: ${:.2f}M'.format(total_funded_amount_millions))"
   ]
  },
  {
   "cell_type": "markdown",
   "id": "b3282d47-6968-4e64-9f35-ad85be53868f",
   "metadata": {},
   "source": [
    "### mtd total funded amount"
   ]
  },
  {
   "cell_type": "code",
   "execution_count": 42,
   "id": "4574d653-7c2e-4ec2-b5bc-dc168f2abd1f",
   "metadata": {},
   "outputs": [
    {
     "name": "stdout",
     "output_type": "stream",
     "text": [
      "mtd_total_funded_amount :$53.98m\n"
     ]
    }
   ],
   "source": [
    "latest_issue_date = df['issue_date'].max()\n",
    "latest_month=latest_issue_date.month\n",
    "latest_year=latest_issue_date.year\n",
    "\n",
    "mtd_data=df[\n",
    "(df['issue_date'].dt.month==latest_month)&\n",
    "(df['issue_date'].dt.year==latest_year)\n",
    "]\n",
    "\n",
    "mtd_tota_funded_amount= mtd_data['loan_amount'].sum()\n",
    "mtd_tota_funded_amount_millions= mtd_tota_funded_amount/1000000\n",
    "print('mtd_total_funded_amount :${:.2f}m'.format(mtd_tota_funded_amount_millions))"
   ]
  },
  {
   "cell_type": "code",
   "execution_count": null,
   "id": "3331a93d-7fc6-4970-91e7-15fca0cbbfb2",
   "metadata": {},
   "outputs": [],
   "source": []
  },
  {
   "cell_type": "markdown",
   "id": "856f3b41-84e9-48b6-a54b-f3defb396964",
   "metadata": {},
   "source": [
    "### total amount reived"
   ]
  },
  {
   "cell_type": "code",
   "execution_count": 45,
   "id": "d3791f0e-585d-44c4-a545-db1318d84596",
   "metadata": {},
   "outputs": [
    {
     "name": "stdout",
     "output_type": "stream",
     "text": [
      "total amount recived:$473.07m\n"
     ]
    }
   ],
   "source": [
    "total_amount_recived=df['total_payment'].sum()\n",
    "total_recived_in_million=total_amount_recived/1000000\n",
    "print('total amount recived:${:.2f}m'.format(total_recived_in_million))"
   ]
  },
  {
   "cell_type": "markdown",
   "id": "8893b233-f4c8-4f64-b314-c9e8f54fe2c3",
   "metadata": {},
   "source": [
    "### mtd total amount recived"
   ]
  },
  {
   "cell_type": "code",
   "execution_count": 46,
   "id": "3e80a223-9312-43a5-89db-b0179e22cf3d",
   "metadata": {},
   "outputs": [
    {
     "name": "stdout",
     "output_type": "stream",
     "text": [
      "mtd total amount recived:$58.07m\n"
     ]
    }
   ],
   "source": [
    "latest_issue_date=df['issue_date'].max()\n",
    "latest_year=latest_issue_date.year\n",
    "latest_month=latest_issue_date.month\n",
    "\n",
    "mtd_data=df[\n",
    "    (df['issue_date'].dt.year==latest_year)&\n",
    "    (df['issue_date'].dt.month==latest_month)\n",
    "]\n",
    "\n",
    "mtd_amount_recived=mtd_data['total_payment'].sum()\n",
    "mtd_amount_recived_million=mtd_amount_recived/1000000\n",
    "print('mtd total amount recived:${:.2f}m'.format(mtd_amount_recived_million))"
   ]
  },
  {
   "cell_type": "code",
   "execution_count": null,
   "id": "202fa279-c10c-42c7-b35e-969002e985d7",
   "metadata": {},
   "outputs": [],
   "source": []
  },
  {
   "cell_type": "markdown",
   "id": "8ce9c160-49ba-4c2b-b42a-92b9a3053beb",
   "metadata": {},
   "source": [
    "### average intrest rate"
   ]
  },
  {
   "cell_type": "code",
   "execution_count": 50,
   "id": "45b6b714-a195-40fe-b84f-72531ebed71e",
   "metadata": {},
   "outputs": [
    {
     "name": "stdout",
     "output_type": "stream",
     "text": [
      "avg intrest rate :12.05%\n"
     ]
    }
   ],
   "source": [
    "avg_intrest_rate=df['int_rate'].mean()*100\n",
    "print('avg intrest rate :{:.2f}%'.format(avg_intrest_rate))"
   ]
  },
  {
   "cell_type": "code",
   "execution_count": null,
   "id": "a2be9534-4bb7-4f89-916d-52767bba262c",
   "metadata": {},
   "outputs": [],
   "source": []
  },
  {
   "cell_type": "markdown",
   "id": "160150dc-afa0-47a8-9416-717bf3d04200",
   "metadata": {},
   "source": [
    "### average debt-to-income-ratio\n"
   ]
  },
  {
   "cell_type": "code",
   "execution_count": 55,
   "id": "b6d0ea85-1023-4679-9048-3920a173370e",
   "metadata": {},
   "outputs": [
    {
     "name": "stdout",
     "output_type": "stream",
     "text": [
      "avg debt to income ratio: 13.33%\n"
     ]
    }
   ],
   "source": [
    "avg_dti=df['dti'].mean()*100\n",
    "print('avg debt to income ratio: {:.2f}%'.format(avg_dti))\n"
   ]
  },
  {
   "cell_type": "code",
   "execution_count": null,
   "id": "5d160a32-d645-45ef-b5e9-6c6277c4b4c9",
   "metadata": {},
   "outputs": [],
   "source": []
  },
  {
   "cell_type": "markdown",
   "id": "7b0e19b3-fb53-47f8-aa8a-a2585dd5987f",
   "metadata": {},
   "source": [
    "## SECONDARY KPI"
   ]
  },
  {
   "cell_type": "markdown",
   "id": "b998d2ee-8265-4a67-a77d-ff2ccbe5a917",
   "metadata": {},
   "source": [
    "### good loan metrics"
   ]
  },
  {
   "cell_type": "code",
   "execution_count": 66,
   "id": "6f8b8c83-1b3f-4fd3-a337-087fe99a4459",
   "metadata": {},
   "outputs": [
    {
     "name": "stdout",
     "output_type": "stream",
     "text": [
      "good loan application: 33243\n",
      "good loan funded : $370.22m\n",
      "good loan recived : $435.79m\n",
      "good loan percentage: 86.18%\n"
     ]
    }
   ],
   "source": [
    "good_loans=df[\n",
    "df['loan_status'].isin(['Fully Paid','Current'])\n",
    "]\n",
    "\n",
    "total_loan_application=df['id'].count()\n",
    "\n",
    "\n",
    "good_loan_application=good_loans['id'].count()\n",
    "good_loan_funded=good_loans['loan_amount'].sum()\n",
    "good_loan_recived=good_loans['total_payment'].sum()\n",
    "\n",
    "\n",
    "\n",
    "good_loan_funded_millions=good_loan_funded/1000000\n",
    "good_loan_recived_millions=good_loan_recived/1000000\n",
    "\n",
    "good_loan_percentage=(good_loan_application/total_loan_application)*100\n",
    "\n",
    "\n",
    "print('good loan application:',good_loan_application)\n",
    "print('good loan funded : ${:.2f}m'.format(good_loan_funded_millions))\n",
    "print('good loan recived : ${:.2f}m'.format(good_loan_recived_millions))\n",
    "print('good loan percentage: {:.2f}%'.format(good_loan_percentage))\n"
   ]
  },
  {
   "cell_type": "code",
   "execution_count": null,
   "id": "4041f76d-10d3-403e-b62f-d10954e34774",
   "metadata": {},
   "outputs": [],
   "source": []
  },
  {
   "cell_type": "markdown",
   "id": "e915eca8-b5a0-4ecc-85f9-ce266b0ddb6c",
   "metadata": {},
   "source": [
    "### bad loan metrics"
   ]
  },
  {
   "cell_type": "code",
   "execution_count": 73,
   "id": "58cf88d8-6e39-403a-9798-f8506a35640d",
   "metadata": {},
   "outputs": [
    {
     "name": "stdout",
     "output_type": "stream",
     "text": [
      "bad loan application: 5333\n",
      "bad loan funded : $65.53m\n",
      "bad loan recived : $37.28m\n",
      "bad loan percentage: 13.82%\n"
     ]
    }
   ],
   "source": [
    "bad_loans=df[\n",
    "    df['loan_status'].isin(['Charged Off'])\n",
    "]\n",
    "\n",
    "\n",
    "total_loan_application=df['id'].count()\n",
    "\n",
    "bad_loan_application=bad_loans['id'].count()\n",
    "bad_loan_funded=bad_loans['loan_amount'].sum()\n",
    "bad_loan_recived=bad_loans['total_payment'].sum()\n",
    "\n",
    "bad_loan_percentage=(bad_loan_application/total_loan_application)*100\n",
    "\n",
    "bad_loan_funded_millions=bad_loan_funded/1000000\n",
    "bad_loan_recived_millions=bad_loan_recived/1000000\n",
    "\n",
    "print('bad loan application:',bad_loan_application)\n",
    "print('bad loan funded : ${:.2f}m'.format(bad_loan_funded_millions))\n",
    "print('bad loan recived : ${:.2f}m'.format(bad_loan_recived_millions))\n",
    "print('bad loan percentage: {:.2f}%'.format(bad_loan_percentage))\n",
    "\n"
   ]
  },
  {
   "cell_type": "code",
   "execution_count": null,
   "id": "969636d0-96fb-4a72-b513-137033601e0e",
   "metadata": {},
   "outputs": [],
   "source": []
  },
  {
   "cell_type": "code",
   "execution_count": null,
   "id": "f68a0f10-26f3-4ce5-8e16-36784bdd75ee",
   "metadata": {},
   "outputs": [],
   "source": []
  },
  {
   "cell_type": "markdown",
   "id": "fb195149-f54f-4454-b08a-734dead96127",
   "metadata": {},
   "source": [
    "### monthly trends for issue date for total funded amount"
   ]
  },
  {
   "cell_type": "code",
   "execution_count": null,
   "id": "c84fe43a-3ecd-46c2-9291-faa83d2224cc",
   "metadata": {},
   "outputs": [],
   "source": [
    "monthly-funds=(\n",
    "    df.sort_values('issue_date')\n",
    "    .assign(month_name=lambda x:x['issue_date'].dt.strftime('b% %y'))\n",
    "    .groupby('month_name',sort=False)['loan_amount']\n",
    "    .sum()\n",
    "    .div(1000000)\n",
    "    .reset_index(name="
   ]
  }
 ],
 "metadata": {
  "kernelspec": {
   "display_name": "Python [conda env:base] *",
   "language": "python",
   "name": "conda-base-py"
  },
  "language_info": {
   "codemirror_mode": {
    "name": "ipython",
    "version": 3
   },
   "file_extension": ".py",
   "mimetype": "text/x-python",
   "name": "python",
   "nbconvert_exporter": "python",
   "pygments_lexer": "ipython3",
   "version": "3.12.7"
  }
 },
 "nbformat": 4,
 "nbformat_minor": 5
}
